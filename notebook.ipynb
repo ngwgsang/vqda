{
  "nbformat": 4,
  "nbformat_minor": 0,
  "metadata": {
    "colab": {
      "provenance": []
    },
    "kernelspec": {
      "name": "python3",
      "display_name": "Python 3"
    },
    "language_info": {
      "name": "python"
    }
  },
  "cells": [
    {
      "cell_type": "markdown",
      "source": [
        "## Install"
      ],
      "metadata": {
        "id": "_y5mI5wUf2xb"
      }
    },
    {
      "cell_type": "code",
      "execution_count": null,
      "metadata": {
        "id": "b0qsHUL1fzMo"
      },
      "outputs": [],
      "source": [
        "%%capture\n",
        "\n",
        "# VQDA\n",
        "!pip install git+https://github.com/sangcamap/vqda.git\n",
        "\n",
        "# Model\n",
        "!git clone https://huggingface.co/SCM-LAB/vietnamese_word_embedding_5000\n",
        "!git clone https://huggingface.co/SCM-LAB/vietnamese_question_paraphrasing_ViT5_base"
      ]
    },
    {
      "cell_type": "code",
      "source": [
        "from vqda import vqda\n",
        "from pprint import pprint"
      ],
      "metadata": {
        "id": "g_g_dAw2ylj2"
      },
      "execution_count": null,
      "outputs": []
    },
    {
      "cell_type": "markdown",
      "source": [
        "## Configure"
      ],
      "metadata": {
        "id": "mFrWotAwgB5w"
      }
    },
    {
      "cell_type": "code",
      "source": [
        "nlp = vqda(\n",
        "    # word_embedding_model = './vietnamese_word_embedding_5000', \n",
        "    # question_paraphrasing_model = './vietnamese_question_paraphrasing_ViT5_base',\n",
        ")"
      ],
      "metadata": {
        "id": "m8ngs3PTf6_C"
      },
      "execution_count": null,
      "outputs": []
    },
    {
      "cell_type": "markdown",
      "source": [
        "## Usage"
      ],
      "metadata": {
        "id": "lhjxy9VqgGH9"
      }
    },
    {
      "cell_type": "code",
      "source": [
        "question = \"Tại sao người ta dùng giun đất làm mồi câu cá?\""
      ],
      "metadata": {
        "id": "9GzKdNG703Ce"
      },
      "execution_count": null,
      "outputs": []
    },
    {
      "cell_type": "markdown",
      "source": [
        "### RD (Random Deletion)"
      ],
      "metadata": {
        "id": "L_MP8HXSzMt0"
      }
    },
    {
      "cell_type": "code",
      "source": [
        "pprint(nlp.RD(question, n_aug = 5))"
      ],
      "metadata": {
        "colab": {
          "base_uri": "https://localhost:8080/"
        },
        "id": "7XbABp1ewgMb",
        "outputId": "b1e8328b-cb8c-4244-a49d-f81c3b5914c6"
      },
      "execution_count": null,
      "outputs": [
        {
          "output_type": "stream",
          "name": "stdout",
          "text": [
            "['Tại sao người ta dùng cá làm giun đất câu mồi?',\n",
            " 'Tại sao người ta giun đất dùng làm câu mồi cá?',\n",
            " 'Tại sao người ta giun đất dùng câu mồi làm cá?',\n",
            " 'Cá Tại sao dùng giun đất làm mồi câu người ta?',\n",
            " 'Tại sao người ta làm giun đất dùng mồi cá câu?']\n"
          ]
        }
      ]
    },
    {
      "cell_type": "markdown",
      "source": [
        "### RS (Random Swap)"
      ],
      "metadata": {
        "id": "Hmpkl70azT0m"
      }
    },
    {
      "cell_type": "code",
      "source": [
        "pprint(nlp.RS(question, n_aug = 5))"
      ],
      "metadata": {
        "colab": {
          "base_uri": "https://localhost:8080/"
        },
        "id": "gsjqDrBfwoPc",
        "outputId": "9913f658-756a-4994-f37a-caf5108bb27b"
      },
      "execution_count": null,
      "outputs": [
        {
          "output_type": "stream",
          "name": "stdout",
          "text": [
            "['Nhím biển Tại sao người ta dùng giun đất làm mồi câu cá?',\n",
            " 'Tại sao người ta nhím biển dùng giun đất làm mồi câu cá?',\n",
            " 'Tại sao người ta dùng giun đất làm mồi cá đuối câu cá?',\n",
            " 'Chúng Tại sao người ta dùng giun đất làm mồi câu cá?',\n",
            " 'Tại sao người ta dùng Làm giun đất làm mồi câu cá?']\n"
          ]
        }
      ]
    },
    {
      "cell_type": "markdown",
      "source": [
        "### RI (Random Insertion) "
      ],
      "metadata": {
        "id": "NzyI7TkxzZWB"
      }
    },
    {
      "cell_type": "code",
      "source": [
        "pprint(nlp.RI(question, n_aug = 5))"
      ],
      "metadata": {
        "colab": {
          "base_uri": "https://localhost:8080/"
        },
        "id": "YaLK1XxCwuCN",
        "outputId": "1cbb89f9-d601-4bdd-e865-5c02f381534e"
      },
      "execution_count": null,
      "outputs": [
        {
          "output_type": "stream",
          "name": "stdout",
          "text": [
            "['Người ta thường dùng cụm từ gì để biểu đạt?',\n",
            " 'Người ta thường dùng từ ngữ biểu đạt là gì?',\n",
            " 'Người ta thường dùng cụm từ gì để gọi?',\n",
            " 'Người ta thường dùng cụm từ gì để biểu diễn?',\n",
            " 'Người ta thường dùng từ ngữ biểu đạt gì để nói?']\n"
          ]
        }
      ]
    },
    {
      "cell_type": "markdown",
      "source": [
        "### SR (Synonym Replacement)"
      ],
      "metadata": {
        "id": "AwFmrOUDzhta"
      }
    },
    {
      "cell_type": "code",
      "source": [
        "pprint(nlp.SR(question, n_aug = 5))"
      ],
      "metadata": {
        "colab": {
          "base_uri": "https://localhost:8080/"
        },
        "id": "9FK0ZgOQzgIg",
        "outputId": "e0c472dd-8ab0-4f48-e7f0-01fc594d2f80"
      },
      "execution_count": null,
      "outputs": [
        {
          "output_type": "stream",
          "name": "stdout",
          "text": [
            "['Vì sao người ta dùng giun đất làm mồi câu cá?',\n",
            " 'Tại sao Người ta dùng giun đất làm mồi câu cá?',\n",
            " 'Tại sao người ta Dùng giun đất làm mồi câu cá?',\n",
            " 'Tại sao người ta áp dụng giun đất làm mồi câu cá?',\n",
            " 'Tại sao người ta dùng nhím biển làm mồi câu cá?']\n"
          ]
        }
      ]
    },
    {
      "cell_type": "markdown",
      "source": [
        "### QP (Question Paraphrasing)"
      ],
      "metadata": {
        "id": "6cNyTO-21S0R"
      }
    },
    {
      "cell_type": "code",
      "source": [
        "pprint(nlp.QP(question, n_aug = 5))"
      ],
      "metadata": {
        "colab": {
          "base_uri": "https://localhost:8080/"
        },
        "id": "YWOzTaa51ZBs",
        "outputId": "e731d9de-4fe2-4009-d033-a0e42c425ce6"
      },
      "execution_count": null,
      "outputs": [
        {
          "output_type": "stream",
          "name": "stdout",
          "text": [
            "['Vì sao người ta dùng giun đất làm mồi câu cá?',\n",
            " 'Tại sao người ta dùng giun đất làm mồi câu cá?',\n",
            " 'Lý do người ta dùng giun đất làm mồi câu cá?',\n",
            " 'Vì sao người ta sử dụng giun đất làm mồi câu cá?',\n",
            " 'Vì sao người ta dùng giun đất để câu cá?']\n"
          ]
        }
      ]
    },
    {
      "cell_type": "markdown",
      "source": [
        "### BT (Back Translation)"
      ],
      "metadata": {
        "id": "Mwk04x8q1Zbx"
      }
    },
    {
      "cell_type": "code",
      "source": [
        "pprint(nlp.BT(question))"
      ],
      "metadata": {
        "colab": {
          "base_uri": "https://localhost:8080/"
        },
        "id": "6U8Ig4Ou1fHl",
        "outputId": "5d4f7040-f4e8-41f3-e7d5-7c3b74ea1565"
      },
      "execution_count": null,
      "outputs": [
        {
          "output_type": "stream",
          "name": "stdout",
          "text": [
            "['Tại sao mọi người sử dụng giun đất làm mồi câu cá?']\n"
          ]
        }
      ]
    }
  ]
}