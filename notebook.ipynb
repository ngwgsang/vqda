{
  "nbformat": 4,
  "nbformat_minor": 0,
  "metadata": {
    "colab": {
      "provenance": []
    },
    "kernelspec": {
      "name": "python3",
      "display_name": "Python 3"
    },
    "language_info": {
      "name": "python"
    }
  },
  "cells": [
    {
      "cell_type": "markdown",
      "source": [
        "## Install"
      ],
      "metadata": {
        "id": "_y5mI5wUf2xb"
      }
    },
    {
      "cell_type": "code",
      "execution_count": 11,
      "metadata": {
        "id": "b0qsHUL1fzMo"
      },
      "outputs": [],
      "source": [
        "%%capture\n",
        "\n",
        "# VQDA\n",
        "!pip install git+https://github.com/sangcamap/vqda.git\n",
        "\n",
        "# Model\n",
        "!git clone https://huggingface.co/SCM-LAB/vietnamese_word_embedding_5000\n",
        "!git clone https://huggingface.co/SCM-LAB/vietnamese_question_paraphrasing_ViT5_base"
      ]
    },
    {
      "cell_type": "code",
      "source": [
        "from vqda import vqda\n",
        "from pprint import pprint"
      ],
      "metadata": {
        "id": "g_g_dAw2ylj2"
      },
      "execution_count": 12,
      "outputs": []
    },
    {
      "cell_type": "markdown",
      "source": [
        "## Configure"
      ],
      "metadata": {
        "id": "mFrWotAwgB5w"
      }
    },
    {
      "cell_type": "code",
      "source": [
        "nlp = vqda(\n",
        "    # word_embedding_model = './vietnamese_word_embedding_5000', \n",
        "    # question_paraphrasing_model = './vietnamese_question_paraphrasing_ViT5_base',\n",
        ")"
      ],
      "metadata": {
        "id": "m8ngs3PTf6_C"
      },
      "execution_count": 13,
      "outputs": []
    },
    {
      "cell_type": "markdown",
      "source": [
        "## Usage"
      ],
      "metadata": {
        "id": "lhjxy9VqgGH9"
      }
    },
    {
      "cell_type": "code",
      "source": [
        "question = \"Tại sao người ta dùng giun đất làm mồi câu cá?\""
      ],
      "metadata": {
        "id": "9GzKdNG703Ce"
      },
      "execution_count": 14,
      "outputs": []
    },
    {
      "cell_type": "markdown",
      "source": [
        "### RD (Random Deletion)"
      ],
      "metadata": {
        "id": "L_MP8HXSzMt0"
      }
    },
    {
      "cell_type": "code",
      "source": [
        "pprint(nlp.RD(question, n_aug = 5))"
      ],
      "metadata": {
        "colab": {
          "base_uri": "https://localhost:8080/"
        },
        "id": "7XbABp1ewgMb",
        "outputId": "6c07473c-9553-41fc-a56c-20e1197096bd"
      },
      "execution_count": 15,
      "outputs": [
        {
          "output_type": "stream",
          "name": "stdout",
          "text": [
            "['Tại sao người ta dùng giun đất làm mồi câu?',\n",
            " 'Người ta dùng làm mồi câu cá?',\n",
            " 'Tại sao người ta dùng giun đất làm mồi câu cá?',\n",
            " 'Tại sao người ta dùng giun đất làm mồi câu cá?',\n",
            " 'Tại sao người ta giun đất câu cá?']\n"
          ]
        }
      ]
    },
    {
      "cell_type": "markdown",
      "source": [
        "### RS (Random Swap)"
      ],
      "metadata": {
        "id": "Hmpkl70azT0m"
      }
    },
    {
      "cell_type": "code",
      "source": [
        "pprint(nlp.RS(question, n_aug = 5))"
      ],
      "metadata": {
        "colab": {
          "base_uri": "https://localhost:8080/"
        },
        "id": "gsjqDrBfwoPc",
        "outputId": "ca6fe718-8f58-463a-dbe0-327729134dbb"
      },
      "execution_count": 16,
      "outputs": [
        {
          "output_type": "stream",
          "name": "stdout",
          "text": [
            "['Tại sao dùng người ta giun đất mồi làm câu cá?',\n",
            " 'Tại sao người ta dùng làm câu mồi giun đất cá?',\n",
            " 'Người ta Tại sao làm giun đất dùng mồi câu cá?',\n",
            " 'Tại sao cá dùng người ta làm mồi câu giun đất?',\n",
            " 'Tại sao làm dùng người ta giun đất mồi câu cá?']\n"
          ]
        }
      ]
    },
    {
      "cell_type": "markdown",
      "source": [
        "### RI (Random Insertion) "
      ],
      "metadata": {
        "id": "NzyI7TkxzZWB"
      }
    },
    {
      "cell_type": "code",
      "source": [
        "pprint(nlp.RI(question, n_aug = 5))"
      ],
      "metadata": {
        "colab": {
          "base_uri": "https://localhost:8080/"
        },
        "id": "YaLK1XxCwuCN",
        "outputId": "1734e2c4-647a-4e0b-b05d-c9a442bbbf87"
      },
      "execution_count": 17,
      "outputs": [
        {
          "output_type": "stream",
          "name": "stdout",
          "text": [
            "['Tại sao chúng người ta dùng giun đất làm mồi câu cá?',\n",
            " 'Tại sao người ta dùng giun đất làm mồi chúng câu cá?',\n",
            " 'Tại sao người ta dùng giun đất làm mồi Người ta câu cá?',\n",
            " 'Tại sao người ta dùng giun đất làm mồi câu câu văn cá?',\n",
            " 'Chúng Tại sao người ta dùng giun đất làm mồi câu cá?']\n"
          ]
        }
      ]
    },
    {
      "cell_type": "markdown",
      "source": [
        "### SR (Synonym Replacement)"
      ],
      "metadata": {
        "id": "AwFmrOUDzhta"
      }
    },
    {
      "cell_type": "code",
      "source": [
        "pprint(nlp.SR(question, n_aug = 5))"
      ],
      "metadata": {
        "colab": {
          "base_uri": "https://localhost:8080/"
        },
        "id": "9FK0ZgOQzgIg",
        "outputId": "7565c2b2-2c85-4adc-c57b-2da5dbbb1706"
      },
      "execution_count": 18,
      "outputs": [
        {
          "output_type": "stream",
          "name": "stdout",
          "text": [
            "['Tại sao người ta dùng giun đất làm cá đuối câu cá?',\n",
            " 'Tại sao người ta dùng giun đất làm mồi câu cá bống?',\n",
            " 'Tại sao chúng dùng giun đất làm mồi câu cá?',\n",
            " 'Tại sao người ta dùng giun đất làm mồi câu cá đuối?',\n",
            " 'Tại sao người ta dùng giun đất làm linh cẩu câu cá?']\n"
          ]
        }
      ]
    },
    {
      "cell_type": "markdown",
      "source": [
        "### QP (Question Paraphrasing)"
      ],
      "metadata": {
        "id": "6cNyTO-21S0R"
      }
    },
    {
      "cell_type": "code",
      "source": [
        "pprint(nlp.QP(question, n_aug = 5))"
      ],
      "metadata": {
        "colab": {
          "base_uri": "https://localhost:8080/"
        },
        "id": "YWOzTaa51ZBs",
        "outputId": "d6882734-2500-4e79-918c-17ab2931abb8"
      },
      "execution_count": 19,
      "outputs": [
        {
          "output_type": "stream",
          "name": "stdout",
          "text": [
            "['Vì sao người ta dùng giun đất làm mồi câu cá?',\n",
            " 'Tại sao người ta dùng giun đất làm mồi câu cá?',\n",
            " 'Lý do người ta dùng giun đất làm mồi câu cá?',\n",
            " 'Vì sao người ta sử dụng giun đất làm mồi câu cá?',\n",
            " 'Vì sao người ta dùng giun đất để câu cá?']\n"
          ]
        }
      ]
    },
    {
      "cell_type": "markdown",
      "source": [
        "### BT (Back Translation)"
      ],
      "metadata": {
        "id": "Mwk04x8q1Zbx"
      }
    },
    {
      "cell_type": "code",
      "source": [
        "pprint(nlp.BT(question))"
      ],
      "metadata": {
        "colab": {
          "base_uri": "https://localhost:8080/"
        },
        "id": "6U8Ig4Ou1fHl",
        "outputId": "b5750468-3efd-4661-f8ad-d0edcebdac10"
      },
      "execution_count": 20,
      "outputs": [
        {
          "output_type": "stream",
          "name": "stdout",
          "text": [
            "['Tại sao mọi người sử dụng giun đất làm mồi câu cá?']\n"
          ]
        }
      ]
    }
  ]
}